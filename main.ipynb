{
 "cells": [
  {
   "cell_type": "code",
   "execution_count": 144,
   "id": "5177fdee",
   "metadata": {},
   "outputs": [
    {
     "name": "stdout",
     "output_type": "stream",
     "text": [
      "                              name  \\\n",
      "0     2024 Jeep Wagoneer Series II   \n",
      "1  2024 Jeep Grand Cherokee Laredo   \n",
      "2         2024 GMC Yukon XL Denali   \n",
      "3       2023 Dodge Durango Pursuit   \n",
      "4            2024 RAM 3500 Laramie   \n",
      "\n",
      "                                         description   make           model  \\\n",
      "0  \\n      \\n        Heated Leather Seats, Nav Sy...   Jeep        Wagoneer   \n",
      "1  Al West is committed to offering every custome...   Jeep  Grand Cherokee   \n",
      "2                                                NaN    GMC        Yukon XL   \n",
      "3  White Knuckle Clearcoat 2023 Dodge Durango Pur...  Dodge         Durango   \n",
      "4  \\n      \\n        2024 Ram 3500 Laramie Billet...    RAM            3500   \n",
      "\n",
      "   year    price                                             engine  \\\n",
      "0  2024  74600.0                            24V GDI DOHC Twin Turbo   \n",
      "1  2024  50170.0                                                OHV   \n",
      "2  2024  96410.0  6.2L V-8 gasoline direct injection, variable v...   \n",
      "3  2023  46835.0                                       16V MPFI OHV   \n",
      "4  2024  81663.0                           24V DDI OHV Turbo Diesel   \n",
      "\n",
      "   cylinders      fuel  mileage       transmission       trim          body  \\\n",
      "0        6.0  Gasoline     10.0  8-Speed Automatic  Series II           SUV   \n",
      "1        6.0  Gasoline      1.0  8-Speed Automatic     Laredo           SUV   \n",
      "2        8.0  Gasoline      0.0          Automatic     Denali           SUV   \n",
      "3        8.0  Gasoline     32.0  8-Speed Automatic    Pursuit           SUV   \n",
      "4        6.0    Diesel     10.0  6-Speed Automatic    Laramie  Pickup Truck   \n",
      "\n",
      "   doors           exterior_color    interior_color        drivetrain  \n",
      "0    4.0                    White      Global Black  Four-wheel Drive  \n",
      "1    4.0                 Metallic      Global Black  Four-wheel Drive  \n",
      "2    4.0             Summit White  Teak/Light Shale  Four-wheel Drive  \n",
      "3    4.0  White Knuckle Clearcoat             Black   All-wheel Drive  \n",
      "4    4.0                   Silver             Black  Four-wheel Drive  \n",
      "(1002, 17)\n",
      "<class 'pandas.core.frame.DataFrame'>\n",
      "RangeIndex: 1002 entries, 0 to 1001\n",
      "Data columns (total 17 columns):\n",
      " #   Column          Non-Null Count  Dtype  \n",
      "---  ------          --------------  -----  \n",
      " 0   name            1002 non-null   object \n",
      " 1   description     946 non-null    object \n",
      " 2   make            1002 non-null   object \n",
      " 3   model           1002 non-null   object \n",
      " 4   year            1002 non-null   int64  \n",
      " 5   price           979 non-null    float64\n",
      " 6   engine          1000 non-null   object \n",
      " 7   cylinders       897 non-null    float64\n",
      " 8   fuel            995 non-null    object \n",
      " 9   mileage         968 non-null    float64\n",
      " 10  transmission    1000 non-null   object \n",
      " 11  trim            1001 non-null   object \n",
      " 12  body            999 non-null    object \n",
      " 13  doors           995 non-null    float64\n",
      " 14  exterior_color  997 non-null    object \n",
      " 15  interior_color  964 non-null    object \n",
      " 16  drivetrain      1002 non-null   object \n",
      "dtypes: float64(4), int64(1), object(12)\n",
      "memory usage: 133.2+ KB\n",
      "None\n"
     ]
    }
   ],
   "source": [
    "#importing the required library\n",
    "import pandas as pd\n",
    "#loading the dataset\n",
    "df = pd.read_csv(r\"C:\\Users\\apurv\\Desktop\\jupyter notebook\\Vehicle_Price_Prediction\\dataset\\dataset.csv\")\n",
    "#display the first few rows\n",
    "print(df.head())\n",
    "#checks how many rows and columns are there\n",
    "print(df.shape)\n",
    "#check the data types and missing values\n",
    "print(df.info())"
   ]
  },
  {
   "cell_type": "code",
   "execution_count": 145,
   "id": "07c7bb00",
   "metadata": {},
   "outputs": [
    {
     "name": "stdout",
     "output_type": "stream",
     "text": [
      "name                0\n",
      "description        56\n",
      "make                0\n",
      "model               0\n",
      "year                0\n",
      "price              23\n",
      "engine              2\n",
      "cylinders         105\n",
      "fuel                7\n",
      "mileage            34\n",
      "transmission        2\n",
      "trim                1\n",
      "body                3\n",
      "doors               7\n",
      "exterior_color      5\n",
      "interior_color     38\n",
      "drivetrain          0\n",
      "dtype: int64\n"
     ]
    }
   ],
   "source": [
    "#see which columns having the missing values\n",
    "print(df.isnull().sum())"
   ]
  },
  {
   "cell_type": "code",
   "execution_count": 146,
   "id": "04b6addc",
   "metadata": {},
   "outputs": [],
   "source": [
    "#dropping the unwanted columns\n",
    "df.drop([\"name\",\"description\",\"trim\"],axis=1,inplace=True)"
   ]
  },
  {
   "cell_type": "code",
   "execution_count": 147,
   "id": "461c0a8d",
   "metadata": {},
   "outputs": [],
   "source": [
    "#dropping the price rows having missing values\n",
    "df=df[df[\"price\"].notnull()]"
   ]
  },
  {
   "cell_type": "code",
   "execution_count": 148,
   "id": "6923d7c1",
   "metadata": {},
   "outputs": [
    {
     "name": "stderr",
     "output_type": "stream",
     "text": [
      "C:\\Users\\apurv\\AppData\\Local\\Temp\\ipykernel_13364\\2366247184.py:4: FutureWarning: A value is trying to be set on a copy of a DataFrame or Series through chained assignment using an inplace method.\n",
      "The behavior will change in pandas 3.0. This inplace method will never work because the intermediate object on which we are setting values always behaves as a copy.\n",
      "\n",
      "For example, when doing 'df[col].method(value, inplace=True)', try using 'df.method({col: value}, inplace=True)' or df[col] = df[col].method(value) instead, to perform the operation inplace on the original object.\n",
      "\n",
      "\n",
      "  df[\"fuel\"].fillna(df[\"fuel\"].mode()[0],inplace=True)\n",
      "C:\\Users\\apurv\\AppData\\Local\\Temp\\ipykernel_13364\\2366247184.py:7: FutureWarning: A value is trying to be set on a copy of a DataFrame or Series through chained assignment using an inplace method.\n",
      "The behavior will change in pandas 3.0. This inplace method will never work because the intermediate object on which we are setting values always behaves as a copy.\n",
      "\n",
      "For example, when doing 'df[col].method(value, inplace=True)', try using 'df.method({col: value}, inplace=True)' or df[col] = df[col].method(value) instead, to perform the operation inplace on the original object.\n",
      "\n",
      "\n",
      "  df[\"transmission\"].fillna(df[\"transmission\"].mode()[0],inplace=True)\n",
      "C:\\Users\\apurv\\AppData\\Local\\Temp\\ipykernel_13364\\2366247184.py:10: FutureWarning: A value is trying to be set on a copy of a DataFrame or Series through chained assignment using an inplace method.\n",
      "The behavior will change in pandas 3.0. This inplace method will never work because the intermediate object on which we are setting values always behaves as a copy.\n",
      "\n",
      "For example, when doing 'df[col].method(value, inplace=True)', try using 'df.method({col: value}, inplace=True)' or df[col] = df[col].method(value) instead, to perform the operation inplace on the original object.\n",
      "\n",
      "\n",
      "  df[\"body\"].fillna(df[\"body\"].mode()[0],inplace=True)\n",
      "C:\\Users\\apurv\\AppData\\Local\\Temp\\ipykernel_13364\\2366247184.py:13: FutureWarning: A value is trying to be set on a copy of a DataFrame or Series through chained assignment using an inplace method.\n",
      "The behavior will change in pandas 3.0. This inplace method will never work because the intermediate object on which we are setting values always behaves as a copy.\n",
      "\n",
      "For example, when doing 'df[col].method(value, inplace=True)', try using 'df.method({col: value}, inplace=True)' or df[col] = df[col].method(value) instead, to perform the operation inplace on the original object.\n",
      "\n",
      "\n",
      "  df[\"doors\"].fillna(df[\"doors\"].mode()[0],inplace=True)\n",
      "C:\\Users\\apurv\\AppData\\Local\\Temp\\ipykernel_13364\\2366247184.py:16: FutureWarning: A value is trying to be set on a copy of a DataFrame or Series through chained assignment using an inplace method.\n",
      "The behavior will change in pandas 3.0. This inplace method will never work because the intermediate object on which we are setting values always behaves as a copy.\n",
      "\n",
      "For example, when doing 'df[col].method(value, inplace=True)', try using 'df.method({col: value}, inplace=True)' or df[col] = df[col].method(value) instead, to perform the operation inplace on the original object.\n",
      "\n",
      "\n",
      "  df[\"drivetrain\"].fillna(df[\"drivetrain\"].mode()[0],inplace=True)\n",
      "C:\\Users\\apurv\\AppData\\Local\\Temp\\ipykernel_13364\\2366247184.py:19: FutureWarning: A value is trying to be set on a copy of a DataFrame or Series through chained assignment using an inplace method.\n",
      "The behavior will change in pandas 3.0. This inplace method will never work because the intermediate object on which we are setting values always behaves as a copy.\n",
      "\n",
      "For example, when doing 'df[col].method(value, inplace=True)', try using 'df.method({col: value}, inplace=True)' or df[col] = df[col].method(value) instead, to perform the operation inplace on the original object.\n",
      "\n",
      "\n",
      "  df[\"exterior_color\"].fillna(df[\"exterior_color\"].mode()[0], inplace=True)\n",
      "C:\\Users\\apurv\\AppData\\Local\\Temp\\ipykernel_13364\\2366247184.py:22: FutureWarning: A value is trying to be set on a copy of a DataFrame or Series through chained assignment using an inplace method.\n",
      "The behavior will change in pandas 3.0. This inplace method will never work because the intermediate object on which we are setting values always behaves as a copy.\n",
      "\n",
      "For example, when doing 'df[col].method(value, inplace=True)', try using 'df.method({col: value}, inplace=True)' or df[col] = df[col].method(value) instead, to perform the operation inplace on the original object.\n",
      "\n",
      "\n",
      "  df[\"interior_color\"].fillna(df[\"interior_color\"].mode()[0],inplace=True)\n"
     ]
    }
   ],
   "source": [
    "#fill the missing values in categorical columns with the most frequent values(mode)\n",
    "\n",
    "# fill fuel columns\n",
    "df[\"fuel\"].fillna(df[\"fuel\"].mode()[0],inplace=True)\n",
    "\n",
    "# fill transmission\n",
    "df[\"transmission\"].fillna(df[\"transmission\"].mode()[0],inplace=True)\n",
    "\n",
    "# fill body columns\n",
    "df[\"body\"].fillna(df[\"body\"].mode()[0],inplace=True)\n",
    "\n",
    "# fill doors columns\n",
    "df[\"doors\"].fillna(df[\"doors\"].mode()[0],inplace=True)\n",
    "\n",
    "# fill drive columns\n",
    "df[\"drivetrain\"].fillna(df[\"drivetrain\"].mode()[0],inplace=True)\n",
    "\n",
    "#fill exterior columns \n",
    "df[\"exterior_color\"].fillna(df[\"exterior_color\"].mode()[0], inplace=True)\n",
    "\n",
    "# fill interior columns\n",
    "df[\"interior_color\"].fillna(df[\"interior_color\"].mode()[0],inplace=True)\n",
    "\n",
    "\n"
   ]
  },
  {
   "cell_type": "code",
   "execution_count": 149,
   "id": "a84bb141",
   "metadata": {},
   "outputs": [
    {
     "name": "stderr",
     "output_type": "stream",
     "text": [
      "C:\\Users\\apurv\\AppData\\Local\\Temp\\ipykernel_13364\\1127258655.py:5: FutureWarning: A value is trying to be set on a copy of a DataFrame or Series through chained assignment using an inplace method.\n",
      "The behavior will change in pandas 3.0. This inplace method will never work because the intermediate object on which we are setting values always behaves as a copy.\n",
      "\n",
      "For example, when doing 'df[col].method(value, inplace=True)', try using 'df.method({col: value}, inplace=True)' or df[col] = df[col].method(value) instead, to perform the operation inplace on the original object.\n",
      "\n",
      "\n",
      "  df[\"mileage\"].fillna(df[\"mileage\"].median(),inplace=True)\n",
      "C:\\Users\\apurv\\AppData\\Local\\Temp\\ipykernel_13364\\1127258655.py:10: FutureWarning: A value is trying to be set on a copy of a DataFrame or Series through chained assignment using an inplace method.\n",
      "The behavior will change in pandas 3.0. This inplace method will never work because the intermediate object on which we are setting values always behaves as a copy.\n",
      "\n",
      "For example, when doing 'df[col].method(value, inplace=True)', try using 'df.method({col: value}, inplace=True)' or df[col] = df[col].method(value) instead, to perform the operation inplace on the original object.\n",
      "\n",
      "\n",
      "  df[\"cylinders\"].fillna(df[\"cylinders\"].median(),inplace=True)\n",
      "C:\\Users\\apurv\\AppData\\Local\\Temp\\ipykernel_13364\\1127258655.py:14: FutureWarning: A value is trying to be set on a copy of a DataFrame or Series through chained assignment using an inplace method.\n",
      "The behavior will change in pandas 3.0. This inplace method will never work because the intermediate object on which we are setting values always behaves as a copy.\n",
      "\n",
      "For example, when doing 'df[col].method(value, inplace=True)', try using 'df.method({col: value}, inplace=True)' or df[col] = df[col].method(value) instead, to perform the operation inplace on the original object.\n",
      "\n",
      "\n",
      "  df[\"engine\"].fillna(df[\"engine\"].median(), inplace=True)\n"
     ]
    }
   ],
   "source": [
    "#filling the missing values in numerical columns\n",
    "\n",
    "#fill mileage columns firstly i convert it to numeric than i fill the values in the mileage columns\n",
    "df[\"mileage\"]=pd.to_numeric(df[\"mileage\"],errors=\"coerce\")\n",
    "df[\"mileage\"].fillna(df[\"mileage\"].median(),inplace=True)\n",
    "\n",
    "#fill cylinders columns firstly i convert it to numeric than i fill the values in the cylinderscolumns\n",
    "\n",
    "df[\"cylinders\"]=pd.to_numeric(df[\"cylinders\"],errors=\"coerce\")\n",
    "df[\"cylinders\"].fillna(df[\"cylinders\"].median(),inplace=True)\n",
    "\n",
    "#fill engine columns firstly i convert it to numeric than i fill the values in the engine columns\n",
    "df[\"engine\"] = pd.to_numeric(df[\"engine\"], errors=\"coerce\")\n",
    "df[\"engine\"].fillna(df[\"engine\"].median(), inplace=True)\n",
    "#the engine columns contains unstructured data and inconsistent text description,\n",
    "#which are difficult to convert to numeric features without NLP\n",
    "#so we will drop this column\n",
    "df.drop(\"engine\",axis=1,inplace=True)"
   ]
  },
  {
   "cell_type": "code",
   "execution_count": 150,
   "id": "b828c865",
   "metadata": {},
   "outputs": [
    {
     "name": "stdout",
     "output_type": "stream",
     "text": [
      "make              0\n",
      "model             0\n",
      "year              0\n",
      "price             0\n",
      "cylinders         0\n",
      "fuel              0\n",
      "mileage           0\n",
      "transmission      0\n",
      "body              0\n",
      "doors             0\n",
      "exterior_color    0\n",
      "interior_color    0\n",
      "drivetrain        0\n",
      "dtype: int64\n"
     ]
    }
   ],
   "source": [
    "#checks again how many missing values are there\n",
    "print(df.isnull().sum())"
   ]
  },
  {
   "cell_type": "code",
   "execution_count": 151,
   "id": "7a209363",
   "metadata": {},
   "outputs": [
    {
     "name": "stdout",
     "output_type": "stream",
     "text": [
      "    make           model  year    price  cylinders  fuel  mileage  \\\n",
      "0   Jeep        Wagoneer  2024  74600.0        6.0     4     10.0   \n",
      "1   Jeep  Grand Cherokee  2024  50170.0        6.0     4      1.0   \n",
      "2    GMC        Yukon XL  2024  96410.0        8.0     4      0.0   \n",
      "3  Dodge         Durango  2023  46835.0        8.0     4     32.0   \n",
      "4    RAM            3500  2024  81663.0        6.0     0     10.0   \n",
      "\n",
      "   transmission  body  doors  exterior_color  interior_color        drivetrain  \n",
      "0            19     6      2             256              34  Four-wheel Drive  \n",
      "1            19     6      2             143              34  Four-wheel Drive  \n",
      "2            32     6      2             235              81  Four-wheel Drive  \n",
      "3            19     6      2             258               5   All-wheel Drive  \n",
      "4             9     5      2             206               5  Four-wheel Drive  \n"
     ]
    }
   ],
   "source": [
    "# importing the tool for encodeing,we maily used this step because machine learning dont understand textual data so we use this to convert it into unique values\n",
    "\n",
    "from sklearn.preprocessing import LabelEncoder\n",
    "\n",
    "cat_cols=['fuel', 'transmission', 'body', 'doors', 'exterior_color', 'interior_color']\n",
    "\n",
    "for col in cat_cols:\n",
    "    df[col] = le.fit_transform(df[col])\n",
    "#looks the unique values and assign the numbers to each value\n",
    "print(df.head())"
   ]
  },
  {
   "cell_type": "code",
   "execution_count": 152,
   "id": "d416ae0e",
   "metadata": {},
   "outputs": [
    {
     "name": "stdout",
     "output_type": "stream",
     "text": [
      "X_train shape: (783, 9)\n",
      "X_test shape: (196, 9)\n",
      "y_train shape: (783,)\n",
      "y_test shape: (196,)\n"
     ]
    }
   ],
   "source": [
    "from sklearn.model_selection import train_test_split\n",
    "#split the columns (X) from the target (y)\n",
    "X = df.drop([\"price\",\"make\",\"model\",\"drivetrain\"],axis=1)#all the columns except price\n",
    "y = df[\"price\"]#only price colunmn\n",
    "\n",
    "#split the data 80% for training and 20% for testing\n",
    "X_train, X_test, y_train, y_test = train_test_split(X, y, test_size=0.2, random_state=42)\n",
    "#showing the size for the data\n",
    "print(\"X_train shape:\", X_train.shape)\n",
    "print(\"X_test shape:\", X_test.shape)\n",
    "print(\"y_train shape:\", y_train.shape)\n",
    "print(\"y_test shape:\", y_test.shape)\n"
   ]
  },
  {
   "cell_type": "code",
   "execution_count": 153,
   "id": "22cf999b",
   "metadata": {},
   "outputs": [
    {
     "name": "stdout",
     "output_type": "stream",
     "text": [
      "Mean Squared Error (MSE): 220844750.1447381\n",
      "R-squared Score (R²): 0.2768444350332684\n"
     ]
    }
   ],
   "source": [
    "#train the model i use linear regression which is simple as compared to other models\n",
    "\n",
    "#import linear regression model\n",
    "from sklearn.linear_model import LinearRegression\n",
    "\n",
    "#create the model\n",
    "model=LinearRegression()\n",
    "\n",
    "#train the model\n",
    "model.fit(X_train,y_train)\n",
    "#predict the values\n",
    "y_pred=model.predict(X_test)\n",
    "\n",
    "#check model perfromance\n",
    "from sklearn.metrics import mean_squared_error,r2_score\n",
    "\n",
    "\n",
    "mse = mean_squared_error(y_test, y_pred)\n",
    "r2 = r2_score(y_test, y_pred)\n",
    "\n",
    "\n",
    "print(\"Mean Squared Error (MSE):\", mse)#it tells how far your pridictions are from real prices\n",
    "print(\"R-squared Score (R²):\", r2)#it tells how well your model fits the data"
   ]
  }
 ],
 "metadata": {
  "kernelspec": {
   "display_name": "base",
   "language": "python",
   "name": "python3"
  },
  "language_info": {
   "codemirror_mode": {
    "name": "ipython",
    "version": 3
   },
   "file_extension": ".py",
   "mimetype": "text/x-python",
   "name": "python",
   "nbconvert_exporter": "python",
   "pygments_lexer": "ipython3",
   "version": "3.12.7"
  }
 },
 "nbformat": 4,
 "nbformat_minor": 5
}
